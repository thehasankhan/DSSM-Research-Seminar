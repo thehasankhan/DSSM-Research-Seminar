{
 "cells": [
  {
   "cell_type": "code",
   "execution_count": 14,
   "metadata": {},
   "outputs": [
    {
     "data": {
      "text/plain": [
       "<matplotlib.axes._subplots.AxesSubplot at 0x2c12516f128>"
      ]
     },
     "execution_count": 14,
     "metadata": {},
     "output_type": "execute_result"
    },
    {
     "data": {
      "image/png": "[encoded data removed]",
      "text/plain": [
       "<Figure size 432x288 with 1 Axes>"
      ]
     },
     "metadata": {
      "needs_background": "light"
     },
     "output_type": "display_data"
    }
   ],
   "source": [
    "import pandas as pd\n",
    "import re\n",
    "from nltk.sentiment.vader import SentimentIntensityAnalyzer\n",
    "import nltk\n",
    "import glob\n",
    "import os\n",
    "import matplotlib.pyplot as plt\n",
    "from textblob import TextBlob\n",
    "country=\"consolidated_data\"\n",
    "filepath=\"C:\\\\Users\\\\NEW\\\\\"+country\n",
    "DATASET_ENCODING = \"ISO-8859-1\"\n",
    "csv_files = glob.glob(os.path.join(filepath, \"*.csv\"))\n",
    "final_result = pd.DataFrame()\n",
    "for f in csv_files:\n",
    "    vaccine_data=pd.read_csv(f,error_bad_lines=False,encoding=DATASET_ENCODING)\n",
    "    vaccine_data=vaccine_data[['date','time','place','tweet','hashtags','replies_count','retweets_count','likes_count']]\n",
    "    text_cleaaning_regex = \"@\\S+|https?:\\S+|http?:\\S|[^A-Za-z0-9]+\"\n",
    "    def preprocess(text):\n",
    "        text = re.sub(text_cleaaning_regex,' ', str(text))\n",
    "        return \"\".join(text)\n",
    "    vaccine_data.tweet = vaccine_data.tweet.apply(lambda x: preprocess(x))\n",
    "    #vaccine_data.place=country\n",
    "    for index, row in vaccine_data['tweet'].iteritems():\n",
    "        score = SentimentIntensityAnalyzer().polarity_scores(row)\n",
    "        neg = score['neg']\n",
    "        neu = score['neu']\n",
    "        pos = score['pos']\n",
    "        if neg > pos:\n",
    "             vaccine_data.loc[index, 'Sentiment'] = \"negative\"\n",
    "        elif pos > neg:\n",
    "             vaccine_data.loc[index, 'Sentiment'] = \"positive\"\n",
    "        else:\n",
    "             vaccine_data.loc[index, 'Sentiment'] = \"neutral\"\n",
    "        vaccine_data.loc[index, 'Negative'] = neg\n",
    "        vaccine_data.loc[index, 'Neutral'] = neu\n",
    "        vaccine_data.loc[index, 'Positive'] = pos\n",
    "    final_result = final_result.append(vaccine_data)\n",
    "final_result.to_csv(\"C:\\\\Users\\\\NEW\\\\consolidated_data\\\\Data_\"+country+\".csv\",index=False)\n",
    "df1=pd.read_csv(\"C:\\\\Users\\\\NEW\\\\consolidated_data\\\\Data_\"+country+\".csv\")\n",
    "for index,row in df1['Sentiment'].iteritems():\n",
    "    if df1.loc[index,'Sentiment'] == \"positive\":\n",
    "        df1.loc[index,'weights'] = 1*df1.loc[index,'likes_count']+1\n",
    "    elif df1.loc[index,'Sentiment'] == \"negative\":\n",
    "        df1.loc[index,'weights'] = -1*df1.loc[index,'likes_count']-1\n",
    "    else:\n",
    "        df1.loc[index,'weights'] = 0*df1.loc[index,'likes_count']\n",
    "df1.to_csv(\"C:\\\\Users\\\\NEW\\\\consolidated_data\\\\Data_\"+country+\".csv\",index=False)\n",
    "df1['date']=pd.to_datetime(df1['date'])\n",
    "result=df1.groupby([df1['date'].dt.year,df1['date'].dt.month]).sum()['weights']\n",
    "result.plot.line()  "
   ]
  },
  {
   "cell_type": "code",
   "execution_count": null,
   "metadata": {},
   "outputs": [],
   "source": []
  }
 ],
 "metadata": {
  "kernelspec": {
   "display_name": "Python 3",
   "language": "python",
   "name": "python3"
  },
  "language_info": {
   "codemirror_mode": {
    "name": "ipython",
    "version": 3
   },
   "file_extension": ".py",
   "mimetype": "text/x-python",
   "name": "python",
   "nbconvert_exporter": "python",
   "pygments_lexer": "ipython3",
   "version": "3.7.3"
  }
 },
 "nbformat": 4,
 "nbformat_minor": 2
}
